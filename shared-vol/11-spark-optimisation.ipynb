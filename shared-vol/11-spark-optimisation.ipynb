{
 "cells": [
  {
   "cell_type": "markdown",
   "metadata": {},
   "source": [
    "# Spark optimisation\n",
    "![footer_logo_new](images/logo_new.png)"
   ]
  },
  {
   "cell_type": "code",
   "execution_count": 1,
   "metadata": {},
   "outputs": [],
   "source": [
    "from pyspark import StorageLevel\n",
    "from pyspark.sql import functions as F, SQLContext, SparkSession, Window\n",
    "from pyspark.sql.types import*\n",
    "from random import randint\n",
    "import time\n",
    "import datetime"
   ]
  },
  {
   "cell_type": "code",
   "execution_count": 2,
   "metadata": {},
   "outputs": [
    {
     "name": "stderr",
     "output_type": "stream",
     "text": [
      "21/10/13 11:56:34 WARN NativeCodeLoader: Unable to load native-hadoop library for your platform... using builtin-java classes where applicable\n",
      "Using Spark's default log4j profile: org/apache/spark/log4j-defaults.properties\n",
      "Setting default log level to \"WARN\".\n",
      "To adjust logging level use sc.setLogLevel(newLevel). For SparkR, use setLogLevel(newLevel).\n"
     ]
    }
   ],
   "source": [
    "spark = (SparkSession.builder\n",
    "         .appName(\"workshop-spark-optimisation\")\n",
    "         .master(\"spark://spark-master:7077\")\n",
    "         .config(\"spark.eventLog.enabled\", \"true\")\n",
    "         .config(\"spark.eventLog.dir\", \"/opt/workspace/history\")\n",
    "         .config(\"spark.speculation\", \"false\")  # when some task takes more than average time, speculation executor will be launched \n",
    "         .enableHiveSupport()\n",
    "         .getOrCreate()\n",
    "         )"
   ]
  },
  {
   "cell_type": "code",
   "execution_count": 3,
   "metadata": {},
   "outputs": [],
   "source": [
    "meteo_data_file = \"data/meteo-data/parquet\"\n",
    "stations_meta_file = \"data/meteo-data/stations.csv\"\n",
    "observation_type_file = \"data/meteo-data/observation_type.csv\"\n",
    "flag_description_file = \"data/meteo-data/flag_description.csv\""
   ]
  },
  {
   "cell_type": "markdown",
   "metadata": {},
   "source": [
    "## Initialize dataframes"
   ]
  },
  {
   "cell_type": "markdown",
   "metadata": {},
   "source": [
    "## Meteo observations"
   ]
  },
  {
   "cell_type": "code",
   "execution_count": 4,
   "metadata": {},
   "outputs": [],
   "source": [
    "def init_meteo_df():\n",
    "    return spark.read.parquet(meteo_data_file)"
   ]
  },
  {
   "cell_type": "markdown",
   "metadata": {},
   "source": [
    "### Stations dictionary"
   ]
  },
  {
   "cell_type": "code",
   "execution_count": 5,
   "metadata": {},
   "outputs": [],
   "source": [
    "def init_stations_df():\n",
    "    schema = StructType([\n",
    "        StructField('station_identifier', StringType(), True),\n",
    "        StructField('latitude', FloatType(), True),\n",
    "        StructField('longitude', FloatType(), True),\n",
    "        StructField('height_above_sea_level', FloatType(), True),\n",
    "        StructField('station_name', StringType(), True)\n",
    "    ])\n",
    "    return spark.read.schema(schema).option(\"header\", \"false\").csv(stations_meta_file)"
   ]
  },
  {
   "cell_type": "markdown",
   "metadata": {},
   "source": [
    "### Dictionary of observation types"
   ]
  },
  {
   "cell_type": "code",
   "execution_count": 6,
   "metadata": {},
   "outputs": [],
   "source": [
    "def init_observation_type_df():\n",
    "    schema = StructType([\n",
    "        StructField('observation_type', StringType(), True),\n",
    "        StructField('description', StringType(), True)\n",
    "    ])\n",
    "    return spark.read.schema(schema).option(\"header\", \"false\").csv(observation_type_file)"
   ]
  },
  {
   "cell_type": "markdown",
   "metadata": {},
   "source": [
    "### Meteo flags dictionary"
   ]
  },
  {
   "cell_type": "code",
   "execution_count": 7,
   "metadata": {},
   "outputs": [],
   "source": [
    "def init_flag_description_df():\n",
    "    schema = StructType([\n",
    "        StructField('flag', StringType(), True),\n",
    "        StructField('flag_description', StringType(), True),\n",
    "        StructField('value', StringType(), True),\n",
    "        StructField('value_description', StringType(), True)\n",
    "    ])\n",
    "    return spark.read.schema(schema).option(\"header\", \"false\").csv(flag_description_file)"
   ]
  },
  {
   "cell_type": "code",
   "execution_count": 8,
   "metadata": {},
   "outputs": [
    {
     "name": "stderr",
     "output_type": "stream",
     "text": [
      "                                                                                \r"
     ]
    },
    {
     "name": "stdout",
     "output_type": "stream",
     "text": [
      "root\n",
      " |-- station_identifier: string (nullable = true)\n",
      " |-- date: date (nullable = true)\n",
      " |-- observation_type: string (nullable = true)\n",
      " |-- observation_value: integer (nullable = true)\n",
      " |-- MFLAG1: string (nullable = true)\n",
      " |-- QFLAG1: string (nullable = true)\n",
      " |-- SFLAG1: string (nullable = true)\n",
      " |-- time: string (nullable = true)\n",
      " |-- yyyy: integer (nullable = true)\n",
      "\n",
      "root\n",
      " |-- station_identifier: string (nullable = true)\n",
      " |-- latitude: float (nullable = true)\n",
      " |-- longitude: float (nullable = true)\n",
      " |-- height_above_sea_level: float (nullable = true)\n",
      " |-- station_name: string (nullable = true)\n",
      "\n",
      "root\n",
      " |-- observation_type: string (nullable = true)\n",
      " |-- description: string (nullable = true)\n",
      "\n",
      "root\n",
      " |-- flag: string (nullable = true)\n",
      " |-- flag_description: string (nullable = true)\n",
      " |-- value: string (nullable = true)\n",
      " |-- value_description: string (nullable = true)\n",
      "\n"
     ]
    }
   ],
   "source": [
    "meteo_df = init_meteo_df()\n",
    "meteo_df.printSchema()\n",
    "\n",
    "stations_df = init_stations_df()\n",
    "stations_df.printSchema()\n",
    "\n",
    "observation_type_df = init_observation_type_df()\n",
    "observation_type_df.printSchema()\n",
    "\n",
    "flag_description_df = init_flag_description_df()\n",
    "flag_description_df.printSchema()"
   ]
  },
  {
   "cell_type": "markdown",
   "metadata": {},
   "source": [
    "## Query optimization examples"
   ]
  },
  {
   "cell_type": "markdown",
   "metadata": {},
   "source": [
    "### 1.Partition and predicate filters\n",
    "Here are two examples that are fetching the same set of data, but in second case we add a partiton filter.\n",
    "To know the size of your dataset use `df.cache().count()` and check Storage tab on Spark UI.\n",
    "To see how the table is partitioned, use `spark.sql(\"DESCRIBE EXTENDED table\").show()` for hive tables.\n",
    "\n",
    "For this example The size of data that is fetched differs from 7.9 GB to 0.9 GB"
   ]
  },
  {
   "cell_type": "code",
   "execution_count": 9,
   "metadata": {},
   "outputs": [
    {
     "name": "stderr",
     "output_type": "stream",
     "text": [
      "[Stage 2:=======================================================> (70 + 2) / 72]\r"
     ]
    },
    {
     "name": "stdout",
     "output_type": "stream",
     "text": [
      "13521\n"
     ]
    },
    {
     "name": "stderr",
     "output_type": "stream",
     "text": [
      "                                                                                \r"
     ]
    }
   ],
   "source": [
    "df1 = (meteo_df\n",
    "       .where(\"station_identifier = 'AG000060390'\")\n",
    "       .where(F.year(\"date\") >= '1991')\n",
    "       .where(F.year(\"date\") <= '2000')\n",
    "      )\n",
    "count = df1.count()\n",
    "print(count)"
   ]
  },
  {
   "cell_type": "code",
   "execution_count": 10,
   "metadata": {},
   "outputs": [
    {
     "name": "stderr",
     "output_type": "stream",
     "text": [
      "[Stage 4:===================================================>     (10 + 1) / 11]\r"
     ]
    },
    {
     "name": "stdout",
     "output_type": "stream",
     "text": [
      "13521\n"
     ]
    },
    {
     "name": "stderr",
     "output_type": "stream",
     "text": [
      "                                                                                \r"
     ]
    }
   ],
   "source": [
    "df1 = (meteo_df\n",
    "       .where(\"station_identifier = 'AG000060390'\")\n",
    "       .where(\"yyyy >= 1991\")\n",
    "       .where(\"yyyy <= 2000\")\n",
    "      )\n",
    "count = df1.count()\n",
    "print(count)"
   ]
  },
  {
   "cell_type": "markdown",
   "metadata": {},
   "source": [
    "### 2.Early filtering and selecting only necessary columns\n",
    "At first example Spark makes full table  scan 7.9 GiB, while the second example selects only specific columns Spark scans 4.6 GiB\n",
    "\n",
    "When the table has a lot of columns, selecting only specific columns as soon as possible can make a huge difference in processing time"
   ]
  },
  {
   "cell_type": "code",
   "execution_count": 11,
   "metadata": {},
   "outputs": [
    {
     "name": "stderr",
     "output_type": "stream",
     "text": [
      "                                                                                \r"
     ]
    }
   ],
   "source": [
    "df1 = (meteo_df\n",
    "       .where(\"station_identifier = 'AG000060390'\")\n",
    "       .where(\"observation_type = 'TAVG'\")\n",
    "      )\n",
    "df1.write.format(\"noop\").mode(\"overwrite\").save()"
   ]
  },
  {
   "cell_type": "code",
   "execution_count": 12,
   "metadata": {},
   "outputs": [
    {
     "name": "stdout",
     "output_type": "stream",
     "text": [
      "== Optimized Logical Plan ==\n",
      "Filter (((isnotnull(station_identifier#0) AND isnotnull(observation_type#2)) AND (station_identifier#0 = AG000060390)) AND (observation_type#2 = TAVG)), Statistics(sizeInBytes=7.8 GiB)\n",
      "+- Relation[station_identifier#0,date#1,observation_type#2,observation_value#3,MFLAG1#4,QFLAG1#5,SFLAG1#6,time#7,yyyy#8] parquet, Statistics(sizeInBytes=7.8 GiB)\n",
      "\n",
      "== Physical Plan ==\n",
      "*(1) Project [station_identifier#0, date#1, observation_type#2, observation_value#3, MFLAG1#4, QFLAG1#5, SFLAG1#6, time#7, yyyy#8]\n",
      "+- *(1) Filter (((isnotnull(station_identifier#0) AND isnotnull(observation_type#2)) AND (station_identifier#0 = AG000060390)) AND (observation_type#2 = TAVG))\n",
      "   +- *(1) ColumnarToRow\n",
      "      +- FileScan parquet [station_identifier#0,date#1,observation_type#2,observation_value#3,MFLAG1#4,QFLAG1#5,SFLAG1#6,time#7,yyyy#8] Batched: true, DataFilters: [isnotnull(station_identifier#0), isnotnull(observation_type#2), (station_identifier#0 = AG000060..., Format: Parquet, Location: InMemoryFileIndex[file:/opt/workspace/data/meteo-data/parquet], PartitionFilters: [], PushedFilters: [IsNotNull(station_identifier), IsNotNull(observation_type), EqualTo(station_identifier,AG0000603..., ReadSchema: struct<station_identifier:string,date:date,observation_type:string,observation_value:int,MFLAG1:s...\n",
      "\n",
      "\n"
     ]
    }
   ],
   "source": [
    "df1.explain(mode='cost')"
   ]
  },
  {
   "cell_type": "code",
   "execution_count": 13,
   "metadata": {},
   "outputs": [
    {
     "name": "stderr",
     "output_type": "stream",
     "text": [
      "                                                                                \r"
     ]
    }
   ],
   "source": [
    "df1 = (meteo_df\n",
    "       .where(\"station_identifier = 'AG000060390'\")\n",
    "       .where(\"observation_type = 'TAVG'\")\n",
    "       .select(\"date\", \"QFLAG1\")\n",
    "      )\n",
    "df1.write.format(\"noop\").mode(\"overwrite\").save()"
   ]
  },
  {
   "cell_type": "code",
   "execution_count": null,
   "metadata": {},
   "outputs": [],
   "source": [
    "df1.explain(mode='cost')"
   ]
  },
  {
   "cell_type": "markdown",
   "metadata": {},
   "source": [
    "### 3. Shuffle partitions\n",
    "If partition size is too large and doesn't fit into memory, Spill to Memory and to Disk might occur. In most cases increasing the number of shuffle partitions can speed up the execution of a job. Be aware, too many shuffle partitions generate extra pressure on driver."
   ]
  },
  {
   "cell_type": "code",
   "execution_count": null,
   "metadata": {},
   "outputs": [],
   "source": [
    "# persist a df to speed up a demo and also a good example if you need to use df multiple times \n",
    "df1 = (meteo_df\n",
    "       .where(\"yyyy >=2014\"))\n",
    "df1.cache().count()"
   ]
  },
  {
   "cell_type": "markdown",
   "metadata": {},
   "source": [
    "### Setting small value for shuffle partitions, when running check spill on disk and memory"
   ]
  },
  {
   "cell_type": "code",
   "execution_count": null,
   "metadata": {},
   "outputs": [],
   "source": [
    "spark.sql(\"SET spark.sql.shuffle.partitions=10\")\n",
    "df2 = df1.join(stations_df,meteo_df[\"station_identifier\"] == stations_df[\"station_identifier\"], \"inner\")\n",
    "df2 = df2.repartition('observation_type')\n",
    "count = df2.cache().count()\n",
    "print(count)"
   ]
  },
  {
   "cell_type": "code",
   "execution_count": null,
   "metadata": {},
   "outputs": [],
   "source": [
    "df2.unpersist()"
   ]
  },
  {
   "cell_type": "markdown",
   "metadata": {},
   "source": [
    "### Setting default value. How did the behavior change?"
   ]
  },
  {
   "cell_type": "code",
   "execution_count": null,
   "metadata": {},
   "outputs": [],
   "source": [
    "spark.sql(\"SET spark.sql.shuffle.partitions=400\")\n",
    "df2 = df1.join(stations_df,meteo_df[\"station_identifier\"] == stations_df[\"station_identifier\"], \"inner\")\n",
    "df2 = df2.repartition('observation_type')\n",
    "count = df2.cache().count()\n",
    "print(count)"
   ]
  },
  {
   "cell_type": "code",
   "execution_count": null,
   "metadata": {},
   "outputs": [],
   "source": [
    "# increasing number of shuffle partitions may lead to longer execution time\n",
    "# run this in background to see what will happen \n",
    "'''\n",
    "spark.sql(\"SET spark.sql.shuffle.partitions=300\")\n",
    "df2 = df1.join(stations_df,meteo_df[\"station_identifier\"] == stations_df[\"station_identifier\"], \"inner\")\n",
    "count = df2.cache().count()\n",
    "print(count)\n",
    "df2.unpersist()\n",
    "'''"
   ]
  },
  {
   "cell_type": "code",
   "execution_count": null,
   "metadata": {},
   "outputs": [],
   "source": [
    "spark.sql(\"SET spark.sql.shuffle.partitions=200\")"
   ]
  },
  {
   "cell_type": "markdown",
   "metadata": {},
   "source": [
    "**Ideally number of partitions should not be smaller than mumber of executors times cores**"
   ]
  },
  {
   "cell_type": "markdown",
   "metadata": {},
   "source": [
    "### 4. Memory problems\n",
    "Memory problems are the most common type of errors that you can get with Spark. We'll have a look on two examples: driver memory limit and executor memory limit.\n",
    "\n",
    "Try to have a look and identify problems."
   ]
  },
  {
   "cell_type": "code",
   "execution_count": null,
   "metadata": {},
   "outputs": [],
   "source": [
    "df1 = (meteo_df\n",
    "       .where(\"yyyy >=2018\"))\n",
    "df1.collect()"
   ]
  },
  {
   "cell_type": "code",
   "execution_count": null,
   "metadata": {},
   "outputs": [],
   "source": [
    "df1 = meteo_df.where(\"observation_type == 'TAVG'\").withColumn(\"month\", F.month(meteo_df[\"date\"])).withColumn(\"day\", F.dayofmonth(meteo_df[\"date\"]))\n",
    "df2 = meteo_df.where(\"observation_type == 'TMIN'\").withColumn(\"month\", F.month(meteo_df[\"date\"])).withColumn(\"day\", F.dayofmonth(meteo_df[\"date\"]))\n",
    "\n",
    "df_res = (df1\n",
    "          .join(F.broadcast(df2), (\n",
    "              (df1[\"station_identifier\"] == df2[\"station_identifier\"]) &\n",
    "              (df1[\"month\"] == df2[\"month\"]) & \n",
    "              (df1[\"day\"] == df2[\"day\"])\n",
    "          ), \"left\")\n",
    "         )\n",
    "df_res.count()"
   ]
  },
  {
   "cell_type": "markdown",
   "metadata": {},
   "source": [
    "Although broadcast can be useful to speed up a Spark job, you should be careful with the size of dataset you're working with  "
   ]
  },
  {
   "cell_type": "markdown",
   "metadata": {},
   "source": [
    "### 5. UDF's\n",
    "\n",
    "- UDF (user defined function) is a column-based function that extend the vocabulary of Spark SQL’s DSL.\n",
    "\n",
    "\n",
    "- There are some cases when you can’t avoid using UDF’s: - when logic of transformations is so complex that you want to make a separate testable module out of it; - when no corresponding Spark DSL/SQL function exists.\n",
    "\n",
    "\n",
    "- Spark uses internal optimization mechanisms called Tungsten and Catalyst. When you use UDFs, you’re losing support from these mechanisms.\n",
    "\n",
    "\n",
    "- In case of PySpark API, you have Python process spawned together with Spark Worker process. Worker process serialized data and sends to Python process in order to run Python native function (UDF) against a partition. As you can imagine, this approach is way less efficient than Spark native.\n",
    "\n",
    "Here are two examples, one is using User-Defined Functions and the other one using Spark Native Functions to achieve same goal.\n"
   ]
  },
  {
   "cell_type": "code",
   "execution_count": null,
   "metadata": {},
   "outputs": [],
   "source": [
    "## Block 8\n",
    "\n",
    "def addStationUDF(s):\n",
    "  if s is None :\n",
    "    return None\n",
    "  else :\n",
    "    return s + ' station'\n",
    "\n",
    "def lowerUDF(s):\n",
    "  if s is None :\n",
    "    return None\n",
    "  else :\n",
    "    return s.lower()\n",
    "\n",
    "def upperUDF(s):\n",
    "  if s is None :\n",
    "    return None\n",
    "  else :\n",
    "    return s.upper()\n",
    "\n",
    "# temperature is measured in tenths of degrees C, we want to convert it to degrees C  \n",
    "def valueConvertorUDF(observation_type, observation_value):\n",
    "  if observation_type is None :\n",
    "    return None    \n",
    "  elif observation_type == \"TMAX\":\n",
    "    return observation_value * 10;\n",
    "  else :\n",
    "    return observation_value;\n",
    "\n",
    "\n",
    "spark.udf.register(\"addStationUDF\", addStationUDF)\n",
    "spark.udf.register(\"lowerUDF\", lowerUDF)\n",
    "spark.udf.register(\"upperUDF\", upperUDF)\n",
    "spark.udf.register(\"valueConvertorUDF\", valueConvertorUDF)"
   ]
  },
  {
   "cell_type": "code",
   "execution_count": null,
   "metadata": {},
   "outputs": [],
   "source": [
    "meteo_df.registerTempTable(\"meteo_table\")\n",
    "\n",
    "df_udf = spark.sql(\"\"\"\n",
    "                    select \n",
    "                       addStationUDF(station_identifier) as standard_station_identifier\n",
    "                       , observation_type\n",
    "                       , valueConvertorUDF(observation_type, observation_value) as normilized_observation_value \n",
    "                       , lowerUDF(station_identifier) as lower_station_name\n",
    "                       , upperUDF(station_identifier) as upper_station_name\n",
    "                    from \n",
    "                        meteo_table\n",
    "                    where station_identifier = 'AG000060390'\n",
    "                    and yyyy >= 2000\n",
    "                \"\"\")\n",
    "\n",
    "df_udf.explain(mode='formatted')"
   ]
  },
  {
   "cell_type": "code",
   "execution_count": null,
   "metadata": {},
   "outputs": [],
   "source": [
    "df_udf.count()\n",
    "# df_udf.unpersist()"
   ]
  },
  {
   "cell_type": "markdown",
   "metadata": {},
   "source": [
    "Now, let's try to do same transformation with Spark Native functions."
   ]
  },
  {
   "cell_type": "code",
   "execution_count": null,
   "metadata": {},
   "outputs": [],
   "source": [
    "df_native = spark\\\n",
    "                .table(\"meteo_table\")\\\n",
    "                .where(\"station_identifier = 'AG000060390'\")\\\n",
    "                .where(\"yyyy >= 2000\")\\\n",
    "                .select(F.col(\"station_identifier\"), F.col(\"observation_type\"), F.col(\"observation_value\"), \\\n",
    "                        F.concat(F.col(\"station_identifier\"), F.lit(\" station\")).alias(\"standard_station_identifier\"),\\\n",
    "                        F.upper(F.col(\"station_identifier\")).alias(\"upper_station_identifier\"),\\\n",
    "                        F.lower(F.col(\"station_identifier\")).alias(\"lower_station_identifier\"))\n",
    "                    \n",
    "df_native = df_native.withColumn('normilized_observation_value', F.when((F.col(\"observation_type\") == \"TMAX\")\n",
    "    , F.col(\"observation_value\") * 10).otherwise(F.col(\"observation_value\")))\n",
    "df_native = df_native.drop(\"observation_value\")\n",
    "\n",
    "df_native.explain(mode='formatted')"
   ]
  },
  {
   "cell_type": "code",
   "execution_count": null,
   "metadata": {},
   "outputs": [],
   "source": [
    "df_native.cache().count()\n",
    "df_native.unpersist()"
   ]
  },
  {
   "cell_type": "markdown",
   "metadata": {},
   "source": [
    "### 6. Impact of data formats\n",
    "**IMPORTANT** To run this example you need a csv dataset which is not present in instruqt env \n",
    "\n",
    "\n",
    "It is important to know the difference between formats, that are used to store data. If it's possible always store data in the most optimal format for operations you perform "
   ]
  },
  {
   "cell_type": "code",
   "execution_count": null,
   "metadata": {},
   "outputs": [],
   "source": [
    "meteo_data_file_csv = 'data/meteo-data/csv'\n",
    "meteo_data_file_parquet = 'data/meteo-data/parquet'\n",
    "\n",
    "parquet_df = spark.read.parquet(meteo_data_file_parquet)\n",
    "\n",
    "schema = StructType([\n",
    "    StructField('station_identifier', StringType(), True),\n",
    "    StructField('date', StringType(), True),\n",
    "    StructField('observation_type', StringType(), True),\n",
    "    StructField('observation_value', IntegerType(), True),\n",
    "    StructField('MFLAG1', StringType(), True), \n",
    "    StructField('QFLAG1', StringType(), True), \n",
    "    StructField('SFLAG1', StringType(), True), \n",
    "    StructField('time', StringType(), True), \n",
    "])\n",
    "csv_df = (spark.read\n",
    "         .schema(schema)\n",
    "        .option(\"header\", \"false\")\n",
    "        .csv(meteo_data_file_csv))"
   ]
  },
  {
   "cell_type": "code",
   "execution_count": null,
   "metadata": {},
   "outputs": [],
   "source": [
    "parquet_df\\\n",
    "    .where(\"station_identifier = 'AG000060390'\")\\\n",
    "    .where(\"observation_type = 'TAVG'\")\\\n",
    "    .where(F.year(\"date\") == '2010')\\\n",
    "    .count()"
   ]
  },
  {
   "cell_type": "code",
   "execution_count": null,
   "metadata": {},
   "outputs": [],
   "source": [
    "csv_df\\\n",
    "    .where(\"station_identifier = 'AG000060390'\")\\\n",
    "    .where(\"observation_type = 'TAVG'\")\\\n",
    "    .where(F.year(\"date\") == '2010')\\\n",
    "    .count()"
   ]
  },
  {
   "cell_type": "markdown",
   "metadata": {},
   "source": [
    "### 7. Executor memory and cores\n",
    "\n",
    "It's important to find an optimal number of executors and cores to use all available resource as efficient as possible.\n",
    "For this we need to recreate a sprak session.\n",
    "\n",
    "NB: don't forget to restart env with approproate number of executors (see README) if working with Docker! "
   ]
  },
  {
   "cell_type": "code",
   "execution_count": null,
   "metadata": {},
   "outputs": [],
   "source": [
    "spark.stop()\n",
    "spark = (SparkSession.builder\n",
    "         .appName(\"workshop-spark-optimisation\")\n",
    "         .master(\"spark://spark-master:7077\")\n",
    "         .config(\"spark.eventLog.enabled\", \"true\")\n",
    "         .config(\"spark.eventLog.dir\", \"/opt/workspace/history\")\n",
    "         .config(\"spark.executor.cores\", \"1\")\n",
    "         .config(\"spark.executor.memory\", \"1G\")\n",
    "         .enableHiveSupport()\n",
    "         .getOrCreate()\n",
    "         )\n",
    "df = spark.read.parquet(meteo_data_file)\n",
    "df.where(\"station_identifier = 'AG000060390' and yyyy>2000\").cache().count()\n",
    "# 40 sec "
   ]
  },
  {
   "cell_type": "code",
   "execution_count": null,
   "metadata": {},
   "outputs": [],
   "source": [
    "spark.stop()\n",
    "spark = (SparkSession.builder\n",
    "         .appName(\"workshop-spark-optimisation\")\n",
    "         .master(\"spark://spark-master:7077\")\n",
    "         .config(\"spark.eventLog.enabled\", \"true\")\n",
    "         .config(\"spark.eventLog.dir\", \"/opt/workspace/history\")\n",
    "         .config(\"spark.executor.cores\", \"1\")\n",
    "         .config(\"spark.executor.memory\", \"2G\")\n",
    "         .enableHiveSupport()\n",
    "         .getOrCreate()\n",
    "         )\n",
    "df = spark.read.parquet(meteo_data_file)\n",
    "df.where(\"station_identifier = 'AG000060390' and yyyy>2000\").cache().count()\n",
    "# 40 sec "
   ]
  },
  {
   "cell_type": "code",
   "execution_count": null,
   "metadata": {},
   "outputs": [],
   "source": [
    "spark.stop()\n",
    "spark = (SparkSession.builder\n",
    "         .appName(\"workshop-spark-optimisation\")\n",
    "         .master(\"spark://spark-master:7077\")\n",
    "         .config(\"spark.eventLog.enabled\", \"true\")\n",
    "         .config(\"spark.eventLog.dir\", \"/opt/workspace/history\")\n",
    "         .config(\"spark.executor.cores\", \"4\")\n",
    "         .config(\"spark.executor.memory\", \"1G\")\n",
    "         .enableHiveSupport()\n",
    "         .getOrCreate()\n",
    "         )\n",
    "df = spark.read.parquet(meteo_data_file)\n",
    "df.where(\"station_identifier = 'AG000060390' and yyyy>2000\").cache().count()\n",
    "# 28 sec"
   ]
  },
  {
   "cell_type": "code",
   "execution_count": null,
   "metadata": {},
   "outputs": [],
   "source": [
    "spark.stop()\n",
    "spark = (SparkSession.builder\n",
    "         .appName(\"workshop-spark-optimisation\")\n",
    "         .master(\"spark://spark-master:7077\")\n",
    "         .config(\"spark.eventLog.enabled\", \"true\")\n",
    "         .config(\"spark.eventLog.dir\", \"/opt/workspace/history\")\n",
    "         .config(\"spark.executor.cores\", \"4\")\n",
    "         .config(\"spark.executor.memory\", \"2G\")\n",
    "         .enableHiveSupport()\n",
    "         .getOrCreate()\n",
    "         )\n",
    "df = spark.read.parquet(meteo_data_file)\n",
    "df.where(\"station_identifier = 'AG000060390' and yyyy>2000\").cache().count()\n",
    "# 28 sec"
   ]
  },
  {
   "cell_type": "markdown",
   "metadata": {},
   "source": [
    "But what if we have shuffle operation? "
   ]
  },
  {
   "cell_type": "code",
   "execution_count": null,
   "metadata": {},
   "outputs": [],
   "source": [
    "spark.stop()\n",
    "spark = (SparkSession.builder\n",
    "         .appName(\"workshop-spark-optimisation\")\n",
    "         .master(\"spark://spark-master:7077\")\n",
    "         .config(\"spark.eventLog.enabled\", \"true\")\n",
    "         .config(\"spark.eventLog.dir\", \"/opt/workspace/history\")\n",
    "         .config(\"spark.executor.cores\", \"4\")\n",
    "         .config(\"spark.executor.memory\", \"1G\")\n",
    "         .enableHiveSupport()\n",
    "         .getOrCreate()\n",
    "         )\n",
    "df = spark.read.parquet(meteo_data_file)\n",
    "df.where(\"yyyy>2000 and yyyy<=2010\").groupBy(\"station_identifier\", \"observation_type\", \"yyyy\").max(\"observation_value\").cache().show(10)\n",
    "# 1,2 min"
   ]
  },
  {
   "cell_type": "code",
   "execution_count": null,
   "metadata": {},
   "outputs": [],
   "source": [
    "spark.stop()\n",
    "spark = (SparkSession.builder\n",
    "         .appName(\"workshop-spark-optimisation\")\n",
    "         .master(\"spark://spark-master:7077\")\n",
    "         .config(\"spark.eventLog.enabled\", \"true\")\n",
    "         .config(\"spark.eventLog.dir\", \"/opt/workspace/history\")\n",
    "         .config(\"spark.executor.cores\", \"4\")\n",
    "         .config(\"spark.executor.memory\", \"2G\")\n",
    "         .enableHiveSupport()\n",
    "         .getOrCreate()\n",
    "         )\n",
    "df = spark.read.parquet(meteo_data_file)\n",
    "df.where(\"yyyy>2000 and yyyy<=2010 and observation_type='TAVG'\").groupBy(\"station_identifier\", \"yyyy\").max(\"observation_value\").cache().show(10)\n",
    "# 20 s"
   ]
  },
  {
   "cell_type": "code",
   "execution_count": null,
   "metadata": {},
   "outputs": [],
   "source": [
    "spark.stop()"
   ]
  },
  {
   "cell_type": "markdown",
   "metadata": {},
   "source": [
    "### 8. Joins \n",
    "\n",
    "There are multiple types of join operations that you can use: \n",
    "- Shuffle hash join\n",
    "- Sort merge join \n",
    "- Broadcast hash join \n",
    "- Cartesian join        \n",
    "    "
   ]
  },
  {
   "cell_type": "markdown",
   "metadata": {},
   "source": [
    "#### 8.1 Shuffle hash join \n",
    "\n",
    "The most basic type of joins, basically Map Reduce:\n",
    "- Map through two data frames/tables\n",
    "- use the field of join condition as an output key\n",
    "- shuffle both datasets by the output key \n",
    "- as reduce step join the rows from both datasets with the same key (they are on the same machine and sorted)\n",
    "\n",
    "Works best when DF: \n",
    "- destributed evently with the key (which we're joining on) \n",
    "- has an adequate number of keys to parallelise \n",
    "- one side (at least 3 times) larger than another. Then building hash table is faster than sorting data \n",
    "\n",
    "**Potentianlly might be fast if data is not skewed (because of avioding sorting stage). If data is skewed, it fails with OOM because partition should fit into memory**\n"
   ]
  },
  {
   "cell_type": "code",
   "execution_count": null,
   "metadata": {},
   "outputs": [],
   "source": [
    "spark = (SparkSession.builder\n",
    "         .appName(\"workshop-spark-optimisation\")\n",
    "         .master(\"spark://spark-master:7077\")\n",
    "         .config(\"spark.eventLog.enabled\", \"true\")\n",
    "         .config(\"spark.eventLog.dir\", \"/opt/workspace/history\")\n",
    "         .config(\"spark.executor.cores\", \"2\")\n",
    "         .enableHiveSupport()\n",
    "         .getOrCreate()\n",
    "         )\n",
    "\n",
    "meteo_df = init_meteo_df()\n",
    "stations_df = init_stations_df()\n",
    "observation_type_df = init_observation_type_df()\n",
    "flag_description_df = init_flag_description_df()\n"
   ]
  },
  {
   "cell_type": "code",
   "execution_count": null,
   "metadata": {},
   "outputs": [],
   "source": [
    "spark.sql(\"SET spark.sql.join.preferSortMergeJoin=false\") # true by default since 2.3\n",
    "spark.sql(\"SET spark.sql.autoBroadcastJoinThreshold=100\")\n",
    "\n",
    "# By default Spark tries to avoid Shuffle Hash Join, there are conditions when Spark will do this type of join:\n",
    "# 1. single partition should be small enough to build a hash table\n",
    "# 2. one side of the join is much smaller than other\n",
    "# 3. spark.sql.join.preferSortMergeJoin=false\n",
    "# link to source code https://github.com/apache/spark/blob/branch-2.4/sql/core/src/main/scala/org/apache/spark/sql/execution/SparkStrategies.scala#L260\n",
    "\n",
    "df1 = (meteo_df\n",
    "         .where(\"observation_type in ('SNOW', 'TAVG')\")\n",
    "         .where(\"yyyy >2010\")\n",
    "      )\n",
    "# we have only two keys to join on \n",
    "df2 = df1.join(observation_type_df,\"observation_type\", \"inner\")\n",
    "\n",
    "df2.explain(mode='formatted')\n",
    "df2.count()\n",
    "df2.unpersist()\n",
    "# We're not going to wait till it finishes"
   ]
  },
  {
   "cell_type": "code",
   "execution_count": null,
   "metadata": {},
   "outputs": [],
   "source": [
    "spark.sql(\"SET spark.sql.join.preferSortMergeJoin=false\") # true by default since 2.3\n",
    "spark.sql(\"SET spark.sql.autoBroadcastJoinThreshold=100\") # disable broadcast because spark is smart \n",
    "df2.unpersist()\n",
    "df2 = (meteo_df\n",
    "           .where(\"yyyy>2010\")\n",
    "           .join(observation_type_df,\"observation_type\", \"inner\")\n",
    "           .cache()\n",
    "           .where(\"observation_type in ('SNOW', 'TAVG')\")\n",
    "      )\n",
    "\n",
    "df2.explain(mode='formatted')\n",
    "df2.cache().count()\n",
    "# see that shuffle stage is more even\n",
    "df2.unpersist()"
   ]
  },
  {
   "cell_type": "code",
   "execution_count": null,
   "metadata": {},
   "outputs": [],
   "source": [
    "spark.sql(\"SET spark.sql.join.preferSortMergeJoin=false\") # true by default since 2.3\n",
    "spark.sql(\"SET spark.sql.autoBroadcastJoinThreshold=200\") # disable broadcast because spark is smart \n",
    "\n",
    "# create more keys \n",
    "df1 = (meteo_df\n",
    "         .where(\"observation_type in ('SNOW', 'TAVG')\")\n",
    "         .where(\"yyyy>2010\")\n",
    "         .withColumn(\"observation_type_new\", F.concat(F.col(\"observation_type\"), (F.rand()*10).cast('int')))\n",
    "      )\n",
    "\n",
    "arr = [f\"SNOW{n}\" for n in range(1, 11)] + [f\"TAVG{n}\" for n in range(1, 11)] \n",
    "df_temp = (observation_type_df\n",
    "                .where(\"observation_type in ('SNOW', 'TAVG')\")\n",
    "                .withColumn(\"tag_array\", F.array([F.lit(x) for x in arr]))\n",
    "                .withColumn(\"observation_type_new\",  F.explode(F.col(\"tag_array\")))\n",
    "                .filter(F.col(\"observation_type_new\").contains(F.col(\"observation_type\")))\n",
    "                .drop(\"tag_array\")\n",
    "          )\n",
    "df2 = df1.join(df_temp,\"observation_type_new\", \"inner\").drop(\"observation_type_new\")\n",
    "df2.explain(mode='formatted')\n",
    "# df2.cache().count()\n",
    "## see that shuffle stage is more even\n",
    "## We'll focus on unequal destibuted keys in Data skew section \n",
    "df2.unpersist()"
   ]
  },
  {
   "cell_type": "markdown",
   "metadata": {},
   "source": [
    "#### 8.2 Sort Merge Join\n",
    "\n",
    "Sort-merge join is composed of 2 steps:\n",
    "- ordering operation made on 2 joined datasets;\n",
    "- the merge of sorted data into a single place by simply iterating over the elements and assembling the rows having the same value for the join key.\n",
    "\n"
   ]
  },
  {
   "cell_type": "code",
   "execution_count": null,
   "metadata": {},
   "outputs": [],
   "source": [
    "spark.sql(\"SET spark.sql.join.preferSortMergeJoin=true\") # enabled by default \n",
    "spark.sql(\"SET spark.sql.autoBroadcastJoinThreshold=0\")\n",
    "\n",
    "meteo_df.unpersist()\n",
    "df2.unpersist()\n",
    "\n",
    "df1 = (meteo_df\n",
    "         .where(\"observation_type in ('SNOW', 'TAVG')\")\n",
    "         .where(\"yyyy>2010\")\n",
    "      )\n",
    "df2 = df1.join(observation_type_df,\"observation_type\", \"inner\")\n",
    "\n",
    "df2.explain(mode='formatted')\n",
    "df2.count()\n",
    "# df2.cache().count()\n",
    "\n",
    "# For skew data it will not fail with OOM because data will be just spilled to disk \n",
    "df2.unpersist()"
   ]
  },
  {
   "cell_type": "code",
   "execution_count": null,
   "metadata": {},
   "outputs": [],
   "source": [
    "spark.sql(\"SET spark.sql.join.preferSortMergeJoin=true\") # true by default since 2.3\n",
    "\n",
    "# create more keys \n",
    "df1 = (meteo_df\n",
    "         .where(\"observation_type in ('SNOW', 'TAVG')\")\n",
    "         .where(\"yyyy>2010\")\n",
    "         .withColumn(\"observation_type_new\", F.concat(F.col(\"observation_type\"), (F.rand()*10).cast('int')))\n",
    "      )\n",
    "arr = [f\"SNOW{n}\" for n in range(1, 11)] + [f\"TAVG{n}\" for n in range(1, 11)] \n",
    "df_temp = (observation_type_df\n",
    "                .where(\"observation_type in ('SNOW', 'TAVG')\")\n",
    "                .withColumn(\"tag_array\", F.array([F.lit(x) for x in arr]))\n",
    "                .withColumn(\"observation_type_new\",  F.explode(F.col(\"tag_array\")))\n",
    "                .filter(F.col(\"observation_type_new\").contains(F.col(\"observation_type\")))\n",
    "                .drop(\"tag_array\")\n",
    "          )\n",
    "df2 = df1.join(df_temp,\"observation_type_new\", \"left\").drop(\"observation_type_new\")\n",
    "df2.explain(mode='formatted')\n",
    "#df2.cache().count()\n",
    "df2.unpersist()"
   ]
  },
  {
   "cell_type": "markdown",
   "metadata": {},
   "source": [
    "#### 8.3 Broadcast Join\n",
    "\n",
    "In broadcast hash join, copy of one of the join relations are being sent to all the worker nodes and it saves shuffling cost. \n",
    "This is useful when you are joining a large relation with a smaller one.\n",
    "\n",
    "Spark deploys this join strategy when the size of one of the join relations is less than the threshold values(default 10 M). \n",
    "Set `spark.sql.autoBroadcastJoinThreshold(configurable)` to desired value, if it's equal to 0 or less, broadcast is disables.\n",
    "\n",
    "**The broadcasted relation should fit completely into the memory of each executor as well as the driver. In Driver, because driver will start the data transfer.**\n",
    "\n",
    "You can’t make changes to the broadcasted relation, after broadcast. Even if you do, they won’t be available to the worker nodes(because the copy is already shipped).\n",
    "\n",
    "Join will fail if broadcast operation takes more time than `spark.sql.broadcastTimeout` (default 5 min). This might be a use case with UDF's which take long time to calculate "
   ]
  },
  {
   "cell_type": "code",
   "execution_count": null,
   "metadata": {},
   "outputs": [],
   "source": [
    "spark.sql(\"SET spark.sql.autoBroadcastJoinThreshold=10485760\") # default value\n",
    "# Maximum limit is 8GB\n",
    " \n",
    "df2 = meteo_df.where(\"yyyy>2010\").where(\"observation_type in ('SNOW', 'TAVG')\").join(observation_type_df,\"observation_type\", \"inner\")\n",
    "\n",
    "df2.explain(mode='formatted')\n",
    "df2.cache().count()\n",
    "df2.unpersist()"
   ]
  },
  {
   "cell_type": "markdown",
   "metadata": {},
   "source": [
    "**Broadcast Join Hint**\n",
    "\n",
    "```\n",
    "    SELECT /*+ BROADCAST(t1) */ * FROM t1 INNER JOIN t2 ON t1.key = t2.key;\n",
    "    SELECT /*+ BROADCASTJOIN (t1) */ * FROM t1 left JOIN t2 ON t1.key = t2.key;\n",
    "    SELECT /*+ MAPJOIN(t2) */ * FROM t1 right JOIN t2 ON t1.key = t2.key;\n",
    "```\n",
    "The join side with the hint will be broadcast **regardless** of autoBroadcastJoinThreshold. If both sides of the join have the broadcast hints, the one with the smaller size (based on stats) will be broadcast. The aliases for BROADCAST are BROADCASTJOIN and MAPJOIN."
   ]
  },
  {
   "cell_type": "code",
   "execution_count": null,
   "metadata": {},
   "outputs": [],
   "source": [
    "spark.sql(\"SET spark.sql.autoBroadcastJoinThreshold=100\")\n",
    " \n",
    "df2 = meteo_df.where(\"yyyy>2010\").where(\"observation_type in ('SNOW', 'TAVG')\").join(observation_type_df,\"observation_type\", \"inner\")\n",
    "df2.explain(mode='formatted')\n",
    "\n",
    "\n",
    "df2 = meteo_df.where(\"yyyy>2010\").where(\"observation_type in ('SNOW', 'TAVG')\").join(F.broadcast(observation_type_df),\"observation_type\", \"inner\")\n",
    "df2.explain(mode='formatted')\n"
   ]
  },
  {
   "cell_type": "markdown",
   "metadata": {},
   "source": [
    "#### 8.4 Cartesian join and special type of join "
   ]
  },
  {
   "cell_type": "code",
   "execution_count": null,
   "metadata": {},
   "outputs": [],
   "source": [
    "df1.unpersist()\n",
    "spark.sql(\"SET spark.sql.crossJoin.enabled=false\") # in 3.0  enabled by default!! \n",
    "df1 = meteo_df.where(\"yyyy=2010\").join(meteo_df.where(\"yyyy=2011\"))\n",
    "df2.explain(mode='formatted')\n",
    "df1.cache().count()\n"
   ]
  },
  {
   "cell_type": "code",
   "execution_count": null,
   "metadata": {},
   "outputs": [],
   "source": [
    "spark.sql(\"SET spark.sql.crossJoin.enabled=true\")\n",
    "df1.unpersist()\n",
    "df1 = meteo_df.where(\"yyyy=2010\").join(meteo_df.where(\"yyyy=2011\"))\n",
    "df2.explain(mode='formatted')\n",
    "df1.cache().count()\n",
    "df1.unpersist()"
   ]
  },
  {
   "cell_type": "markdown",
   "metadata": {},
   "source": [
    "#### 8.5 Broadcast nested loop join\n",
    "\n",
    "```\n",
    "   for record_1 in relation_1:\n",
    "     for record_2 in relation_2:\n",
    "       # join condition is executed\n",
    "```    \n",
    "As you can see, this can be a very slow strategy. This is generally, a fallback option when no other join type can be applied. Spark handles this using BroadcastNestedLoopJoinExec operator that broadcasts the appropriate side of the query, so you can think that at least some chunk of results will be broadcasted to improve performance.\n",
    "\n",
    "**This join supports both ‘=’ and non-equi-joins(‘≤=’, ‘<’ etc.).**"
   ]
  },
  {
   "cell_type": "code",
   "execution_count": null,
   "metadata": {},
   "outputs": [],
   "source": [
    "df2 = (\n",
    "    meteo_df.where(\"yyyy>2010\")\n",
    "    .where(\"observation_type in ('SNOW', 'TAVG')\")\n",
    "    .join(observation_type_df,meteo_df.observation_type.contains(observation_type_df.observation_type), \"inner\")\n",
    ")\n",
    "\n",
    "df2.explain(mode='formatted')\n",
    "df2.unpersist()"
   ]
  },
  {
   "cell_type": "markdown",
   "metadata": {},
   "source": [
    "#### How Spark selects Join strategy?\n",
    "\n",
    "**If it is an ‘=’ join:**\n",
    "- Look at the join hints, in the following order\n",
    "\n",
    "1. Broadcast Hint: Pick broadcast hash join if the join type is supported.\n",
    "2. Sort merge hint: Pick sort-merge join if join keys are sortable.\n",
    "3. Shuffle hash hint: Pick shuffle hash join if the join type is supported.\n",
    "4. Shuffle replicate NL hint: pick cartesian product if join type is inner like.\n",
    "\n",
    "- If there is no hint or the hints are not applicable\n",
    "\n",
    "1. Pick broadcast hash join if one side is small enough to broadcast, and the join type is supported. \n",
    "2. Pick shuffle hash join if one side is small enough to build the local hash map, and is much smaller than the other side, and spark.sql.join.preferSortMergeJoin is false.\n",
    "3. Pick sort-merge join if join keys are sortable.\n",
    "4. Pick cartesian product if join type is inner. \n",
    "5. Pick broadcast nested loop join as the final solution. It may OOM but there is no other choice.\n",
    "\n",
    "**If it’s not ‘=’ join:**\n",
    "- Look at the join hints, in the following order:\n",
    "1. Broadcast hint: pick broadcast nested loop join. \n",
    "2. Shuffle replicate NL hint: pick cartesian product if join type is inner like.\n",
    "\n",
    "- If there is no hint or the hints are not applicable\n",
    "1. Pick broadcast nested loop join if one side is small enough to broadcast. \n",
    "2. Pick cartesian product if join type is inner like. \n",
    "3. Pick broadcast nested loop join as the final solution. It may OOM but we don’t have any other choice.\n",
    "\n",
    "\n",
    "[Hints in Spark](https://spark.apache.org/docs/latest/sql-ref-syntax-qry-select-hints.html#join-hints)\n",
    "\n",
    "**Prior to Spark 3.0 only Broadcast hint was supported**\n"
   ]
  },
  {
   "cell_type": "markdown",
   "metadata": {},
   "source": [
    "#### 8.6 Timeouts\n",
    "\n",
    "Sometimes you might get a timeout error when running your Spark application. The most common timeout error are:\n",
    "\n",
    "```\n",
    "org.apache.spark.SparkException: Could not execute broadcast in 3 secs. You can increase the timeout for broadcasts via spark.sql.broadcastTimeout or disable broadcast join by setting spark.sql.autoBroadcastJoinThreshold to -1\n",
    "```\n",
    "\n",
    "and \n",
    "\n",
    "```\n",
    "WARN Executor: Issue communicating with driver in heartbeater\n",
    "org.apache.spark.rpc.RpcTimeoutException: Futures timed out after [3600 seconds]. This timeout is controlled by spark.executor.heartbeatInterval\n",
    "```\n",
    "\n",
    "Important to understand the reason why this timeout occurs. Don't try to blindly increase timeout settings until the problem is solved.\n",
    "\n",
    "##### Broadcast timeout \n",
    "With the Broadcast timeout the configuration to adjust is `spark.sql.broadcastTimeout`. \n",
    "Timeout occurs when the time that is required to send datasets to the workers exceeds configuration value.\n",
    "\n",
    "**What to do?**\n",
    "\n",
    "1. Check the size of dataset if it's small enough for broadcast \n",
    "2. Check driver memory, so that driver is not the bottleneck \n",
    "3. If the source of data for broadcast is UDF, investigate the time that is required to process data with UDF.\n",
    "\n",
    "\n",
    "##### Network timeout\n",
    "In most cases is caused by some network issue (not responding nodes, not correctly configured cluster, external shuffle service exception.\n",
    "Main setting that controls timeout is `spark.network.timeout`, but there are multiple more specific timeout setting. Check Spark documentation for that. \n",
    "\n",
    "**What to do?**\n",
    "\n",
    "1. Look for other errors that occur on the cluster. When Spark is under heavy workload, timeout exception may occur. For instance if executors are constantly busy with GC. Look into the logs if there is Out Of Memory error.\n",
    "2. Identify the operation when timeout occurs (shuffle, data load, etc.)\n",
    "3. If it's a newly set cluster, it might be cluster configuration issue.\n"
   ]
  },
  {
   "cell_type": "code",
   "execution_count": null,
   "metadata": {},
   "outputs": [],
   "source": [
    "spark.sql(\"SET spark.sql.autoBroadcastJoinThreshold=10485760\")\n",
    "spark.sql(\"SET spark.sql.broadcastTimeout=3\") # default 300\n",
    "\n",
    "df2 = (meteo_df\n",
    "       .where(\"yyyy=2010\")\n",
    "       .where(\"observation_type ='SNOW'\")\n",
    "       .join(F.broadcast(meteo_df\n",
    "           .where(\"yyyy=2011\")\n",
    "           .where(\"observation_type ='TAVG'\")), [\"station_identifier\", \"date\"], \"inner\")\n",
    "      )\n",
    "# df2.explain()\n",
    "\n",
    "df2.cache().count()\n",
    "df2.unpersist()"
   ]
  },
  {
   "cell_type": "markdown",
   "metadata": {},
   "source": [
    "### 9. Data skew\n",
    "\n",
    "Skewness is a common issue when you want to join two tables. We say a join is skewed when the join key is not uniformly distributed in the dataset. During a skewed join, Spark cannot perform operations in parallel, since the join’s load will be distributed unevenly across the Executors.unpersist"
   ]
  },
  {
   "attachments": {
    "3f5f4ba3-a924-48a9-8491-03f896dd12b2.png": {
     "image/png": "[encoded data removed]"
    }
   },
   "cell_type": "markdown",
   "metadata": {},
   "source": [
    "![../images/data-skew.png](attachment:3f5f4ba3-a924-48a9-8491-03f896dd12b2.png)"
   ]
  },
  {
   "cell_type": "code",
   "execution_count": null,
   "metadata": {},
   "outputs": [],
   "source": [
    "spark.sql(\"SET spark.sql.autoBroadcastJoinThreshold=0\")\n",
    "\n",
    "df2 = meteo_df.where(\"yyyy>2015\").where(\"observation_type in ('SNOW', 'TAVG')\").join(observation_type_df,\"observation_type\", \"inner\")\n",
    "\n",
    "#df2.explain(mode='formatted')\n",
    "\n",
    "start_time = time.time()\n",
    "df2.cache().count()\n",
    "print(time.time() - start_time)\n",
    "df2.unpersist()"
   ]
  },
  {
   "cell_type": "markdown",
   "metadata": {},
   "source": [
    "#### 9.1 Broadcasting \n",
    "\n",
    "Using broadcast join if small table is small enough to fit into memory. It works fine, but is not possible for joining two big tables. "
   ]
  },
  {
   "cell_type": "code",
   "execution_count": null,
   "metadata": {},
   "outputs": [],
   "source": [
    "spark.sql(\"SET spark.sql.autoBroadcastJoinThreshold=10485760\") # default value\n",
    "\n",
    "df2 = meteo_df.where(\"yyyy>2015\").where(\"observation_type in ('SNOW', 'TAVG')\").join(observation_type_df,\"observation_type\", \"inner\")\n",
    "\n",
    "df2.explain(mode='formatted')\n",
    "start_time = time.time()\n",
    "df2.cache().count()\n",
    "print(time.time() - start_time)\n",
    "\n",
    "df2.unpersist()\n",
    "# we'll see one more solution for this skew example in the following section "
   ]
  },
  {
   "cell_type": "markdown",
   "metadata": {},
   "source": [
    "#### 9.2 Preprocessing \n",
    "\n",
    "Idea behind preprocessing is to eliminate partitions that cause skew by processing them separately. "
   ]
  },
  {
   "cell_type": "code",
   "execution_count": null,
   "metadata": {},
   "outputs": [],
   "source": [
    "skewed_df = (\n",
    "    meteo_df\n",
    "    .withColumn(\"country_code\", F.col(\"station_identifier\")[0:2])\n",
    "    .where(\"yyyy>=2000\")\n",
    "    .where(\"observation_type='TAVG'\")\n",
    "    .where(\"country_code in ('US','MC','KU','KT','BA','CW','CB','CY','JN','CK')\")\n",
    ").repartition(\"country_code\")\n",
    "\n",
    "skewed_df.write.mode(\"overwrite\").parquet(\"skewed\")"
   ]
  },
  {
   "cell_type": "code",
   "execution_count": null,
   "metadata": {},
   "outputs": [],
   "source": [
    "# if we do PRCP it's even more skewed\n",
    "df = spark.read.parquet(\"skewed\")\n",
    "\n",
    "df2 = df.groupBy(\"country_code\").avg(\"observation_value\")\n",
    "\n",
    "#df2.explain(mode='formatted')\n",
    "\n",
    "start_time = time.time()\n",
    "df2.cache().count()\n",
    "print(time.time() - start_time)\n",
    "\n",
    "df2.unpersist()"
   ]
  },
  {
   "cell_type": "code",
   "execution_count": null,
   "metadata": {},
   "outputs": [],
   "source": [
    "# define which partition is that \n",
    "# obviously we don't include this step into production application \n",
    "df = spark.read.parquet(\"skewed\")\n",
    "df.where(\"yyyy=2000\").groupBy(\"country_code\").count().orderBy(\"count\", ascending=False).show(10)\n",
    "\n",
    "# in this case it's partitions with values US\n",
    "\n",
    "# What we can try to do, is to remove the biggest partition and process it separately\n",
    "df_part1 = df.where(\"country_code='US'\").select(F.avg(\"observation_value\")).withColumn(\"country_code\", F.lit(\"US\"))\n",
    "df_part2 = df.where(\"country_code not in ('US')\").groupBy(\"country_code\").avg(\"observation_value\")\n",
    "\n",
    "df2 = df_part1.union(df_part2)\n",
    "\n",
    "#df2.explain(mode='formatted')\n",
    "\n",
    "start_time = time.time()\n",
    "df2.cache().count()\n",
    "print(time.time() - start_time)\n",
    "\n",
    "df2.unpersist()"
   ]
  },
  {
   "cell_type": "markdown",
   "metadata": {},
   "source": [
    "#### 9.3 Salting\n",
    "\n",
    "How it works:\n",
    "\n",
    "- We replicate the data in the small rdd N times by creating a new key (original_key, v) where v takes values between 0 and N. The value does not change, i.e. it is the same value that was associated to the original key.\n",
    "- We take the large skewed rdd and modify the key to add some randomness by doing (original_key, random_int) where random_int takes a value between 0 and N. Note that in this case we are NOT replicating the data in the large rdd. We are simply splitting the keys so that values associated to the same original key are now split into N buckets.\n",
    "- Finally, we perform the join between these datasets.\n",
    "- We remove the random_int from the key to have the final result of the join.\n"
   ]
  },
  {
   "cell_type": "code",
   "execution_count": null,
   "metadata": {},
   "outputs": [],
   "source": [
    "N = 5 # salting parameter to control replication \n",
    "df = spark.read.parquet(\"skewed\")\n",
    "\n",
    "df2 = (\n",
    "    df\n",
    "    .withColumn(\"country_code_mod\", F.concat(F.col(\"country_code\"), (F.rand()*N).cast('int')))\n",
    ")\n",
    "df3 = df2.groupBy(\"country_code_mod\").avg(\"observation_value\").withColumn(\"country_code\", F.col(\"country_code_mod\")[0:2]).groupBy(F.col(\"country_code_mod\")[0:2]).avg(\"avg(observation_value)\")\n",
    "\n",
    "#df3.explain(mode='formatted')\n",
    "\n",
    "start_time = time.time()\n",
    "df3.cache().count()\n",
    "print(time.time() - start_time)\n",
    "\n",
    "df3.unpersist()"
   ]
  },
  {
   "cell_type": "code",
   "execution_count": null,
   "metadata": {},
   "outputs": [],
   "source": [
    "N = 10 # salting parameter to control replication \n",
    "# create more keys \n",
    "df1 = (meteo_df\n",
    "         .where(\"observation_type in ('SNOW', 'TAVG')\")\n",
    "         .where(\"yyyy>2015\")\n",
    "         .withColumn(\"observation_type_new\", F.concat(F.col(\"observation_type\"), (F.rand()*N).cast('int')))\n",
    "      )\n",
    "arr = [f\"SNOW{n}\" for n in range(1, N+1)] + [f\"TAVG{n}\" for n in range(1, N+1)] \n",
    "df_temp = (observation_type_df\n",
    "                .where(\"observation_type in ('SNOW', 'TAVG')\")\n",
    "                .withColumn(\"tag_array\", F.array([F.lit(x) for x in arr]))\n",
    "                .withColumn(\"observation_type_new\",  F.explode(F.col(\"tag_array\")))\n",
    "                .filter(F.col(\"observation_type_new\").contains(F.col(\"observation_type\")))\n",
    "                .drop(\"tag_array\")\n",
    "          )\n",
    "df2 = df1.join(df_temp,\"observation_type_new\", \"left\").drop(\"observation_type_new\")\n",
    "# df2.explain(mode='formatted')\n",
    "\n",
    "start_time = time.time()\n",
    "df2.cache().count()\n",
    "print(time.time() - start_time)\n",
    "df2.unpersist()"
   ]
  },
  {
   "cell_type": "markdown",
   "metadata": {},
   "source": [
    "#### 9.4 Data skew optimisation in Spark 3.0"
   ]
  },
  {
   "cell_type": "markdown",
   "metadata": {},
   "source": [
    "In Spark 3.0 the [data skew optimization](https://spark.apache.org/docs/latest/sql-performance-tuning.html#optimizing-skew-join) is added. It is controlled by the following settings:\n",
    "\n",
    "1. `spark.sql.adaptive.skewJoin.enabled` -  it enables or disables the skew optimization\n",
    "2. `spark.sql.adaptive.skewJoin.skewedPartitionFactor` - it controls the max size of non skewed partition\n",
    "3. `spark.sql.adaptive.skewJoin.skewedPartitionThresholdInBytes` - value to checks whether a shuffle partition is skewed or not\n",
    "\n",
    "If all settings are set correctly there are the following conditions when the skew join optimisation will be applied:\n",
    "    \n",
    "- the query has only 2 joins;\n",
    "- the optimized plan doesn't involve an extra shuffle stage;\n",
    "- join is a sort merge join for one of the supported types (inner, left outer, right outer, cross, left anti, left semi);\n",
    "- both datasets have the same number of shuffle partitions;\n",
    "- at least one of the sides have skews.\n",
    " \n",
    "You can find the algorithtm, that is applied to optimize skew joins, by checking the source code.\n",
    "\n",
    "[Here](https://www.waitingforcode.com/apache-spark-sql/whats-new-apache-spark-3-join-skew-optimization/read) is a good article with the explanation of optimisation algorithm"
   ]
  },
  {
   "cell_type": "markdown",
   "metadata": {},
   "source": [
    "## Questions:\n",
    "1. How `spark.sql.shuffle.partitions` affects performance of the job? Why too many shuffle partitions generate extra pressure on driver?\n",
    "2. Why UDF's are slow in general? \n",
    "3. What is the benefit of using broadcast? \n",
    "4. Let's take the following query and try to optimise it.\n"
   ]
  },
  {
   "cell_type": "code",
   "execution_count": null,
   "metadata": {},
   "outputs": [],
   "source": [
    "spark.sql(\"SET spark.sql.autoBroadcastJoinThreshold=0\")\n",
    "\n",
    "def station_zone(lt, lg):\n",
    "    if (lt >=20 and lt<30) or (lt <=-20 and lt>-30): return \"tropics\"\n",
    "    if (lt >-20 and lt<20):  return \"equator\" \n",
    "    if (lt >=30 and lt<40) or (lt <=-30 and lt>-40): return \"subtropics\"\n",
    "    if (lt >=40 and lt<50) or (lt <=-40 and lt>-50): return \"warm_temperate\"\n",
    "    if (lt >=50 and lt<60) or (lt <=-50 and lt>-60): return \"boreal\"\n",
    "    if (lt >=60 and lt<70) or (lt <=-60 and lt>-70): return \"tundra\"\n",
    "    if (lt >=75) or (lt <=-70): return \"ice_cap\"  \n",
    "\n",
    "def decade(year):\n",
    "    return year%10\n",
    "\n",
    "spark.udf.register(\"station_zone\", station_zone)\n",
    "spark.udf.register(\"decade\", decade)\n",
    "\n",
    "meteo_df.join(stations_df, \"station_identifier\", \"left\").registerTempTable(\"meteo_table_ext\")\n",
    "\n",
    "df_udf = spark.sql(\"\"\"\n",
    "                    select \n",
    "                       station_identifier\n",
    "                       , station_zone(latitude, longitude) as station_zone\n",
    "                       , observation_type\n",
    "                       , observation_value\n",
    "                       , decade(yyyy) as decade\n",
    "                    from \n",
    "                        meteo_table_ext\n",
    "                    where yyyy>2000\n",
    "                    \n",
    "                \"\"\")\n",
    "res = df_udf\\\n",
    "    .join(observation_type_df, \"observation_type\", \"left\")\\\n",
    "    .select(\"station_zone\", \"observation_type\",\"description\",\"observation_value\")\\\n",
    "    .where(\"decade = 0\")\n",
    "\n",
    "# res.explain(mode='formatted')\n",
    "\n",
    "res.repartition(10).write.format(\"parquet\").mode(\"overwrite\").save(\"res.parquet\")"
   ]
  },
  {
   "cell_type": "code",
   "execution_count": null,
   "metadata": {},
   "outputs": [],
   "source": [
    "# your code"
   ]
  },
  {
   "cell_type": "code",
   "execution_count": null,
   "metadata": {},
   "outputs": [],
   "source": [
    "spark.stop()"
   ]
  },
  {
   "cell_type": "code",
   "execution_count": null,
   "metadata": {},
   "outputs": [],
   "source": []
  }
 ],
 "metadata": {
  "kernelspec": {
   "display_name": "Python 3 (ipykernel)",
   "language": "python",
   "name": "python3"
  },
  "language_info": {
   "codemirror_mode": {
    "name": "ipython",
    "version": 3
   },
   "file_extension": ".py",
   "mimetype": "text/x-python",
   "name": "python",
   "nbconvert_exporter": "python",
   "pygments_lexer": "ipython3",
   "version": "3.9.2"
  }
 },
 "nbformat": 4,
 "nbformat_minor": 4
}
